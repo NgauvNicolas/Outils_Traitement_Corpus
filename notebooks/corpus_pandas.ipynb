{
 "cells": [
  {
   "cell_type": "markdown",
   "id": "268cb094-3521-4140-9100-fea1da4f8995",
   "metadata": {},
   "source": [
    "# Présentation du Notebook\n",
    "#### Ce notebook est un exemple de manipulation du corpus avec Pandas."
   ]
  },
  {
   "cell_type": "code",
   "execution_count": 2,
   "id": "cc3fe9d1-6be1-4ca0-843b-e6bc505ee737",
   "metadata": {},
   "outputs": [],
   "source": [
    "# On importe la bibliothèque\n",
    "import pandas as pd"
   ]
  },
  {
   "cell_type": "code",
   "execution_count": 3,
   "id": "bda41117-5d44-40f3-8e5b-64f6751c3c70",
   "metadata": {},
   "outputs": [],
   "source": [
    "# Lecture du fichier TSV\n",
    "df = pd.read_csv('../data/clean/donnees.tsv', sep='\\t')"
   ]
  },
  {
   "cell_type": "code",
   "execution_count": 4,
   "id": "6e186e4e-4bf6-4b9b-b654-675cbcc0be72",
   "metadata": {},
   "outputs": [
    {
     "name": "stdout",
     "output_type": "stream",
     "text": [
      "                                                text language_code\n",
      "0  เอนโทรปีของข้อมูล - วิกิพีเดียข้ามไปเนื้อหาเมน...            th\n",
      "1                                          2491(ค.ศ.            th\n",
      "2  1948) ชื่อA Mathematical Theory of Communicati...            th\n",
      "3  }นั่นคือ เอนโทรปีของเหตุการณ์ x คือ ผลรวม (บนท...            th\n",
      "4  }เมื่อ K เป็นค่าคงตัวใดๆ (และจะเห็นได้ว่ามันเป...            th\n"
     ]
    }
   ],
   "source": [
    "# Afficher les premières lignes du DataFrame\n",
    "print(df.head())"
   ]
  },
  {
   "cell_type": "code",
   "execution_count": 5,
   "id": "59271e97-8205-474b-bba4-5dc18327f5b2",
   "metadata": {},
   "outputs": [
    {
     "name": "stdout",
     "output_type": "stream",
     "text": [
      "Index(['text', 'language_code'], dtype='object')\n"
     ]
    }
   ],
   "source": [
    "# Afficher les noms des colonnes\n",
    "print(df.columns)"
   ]
  },
  {
   "cell_type": "code",
   "execution_count": 6,
   "id": "9da617f7-2431-441b-bfe2-7a8fcc9a2109",
   "metadata": {},
   "outputs": [
    {
     "name": "stdout",
     "output_type": "stream",
     "text": [
      "0            th\n",
      "1            th\n",
      "2            th\n",
      "3            th\n",
      "4            th\n",
      "         ...   \n",
      "2588    sr-cyrl\n",
      "2589    sr-cyrl\n",
      "2590    sr-cyrl\n",
      "2591    sr-cyrl\n",
      "2592    sr-cyrl\n",
      "Name: language_code, Length: 2593, dtype: object\n"
     ]
    }
   ],
   "source": [
    "# Accéder à une colonne spécifique\n",
    "print(df['language_code'])"
   ]
  },
  {
   "cell_type": "code",
   "execution_count": 9,
   "id": "c1e598cf-f669-4f63-908c-d12c3a5bbad6",
   "metadata": {},
   "outputs": [],
   "source": [
    "# Filtrer les lignes en fonction d'une condition, ici la langue française\n",
    "filtre_fr = df['language_code'] == 'fr'\n",
    "# Appliquer le filtre pour sélectionner les lignes correspondantes\n",
    "fr_df = df[filtre_fr]"
   ]
  },
  {
   "cell_type": "code",
   "execution_count": 11,
   "id": "bd39fac3-202a-4e54-82b2-fd89c36b2e32",
   "metadata": {},
   "outputs": [
    {
     "data": {
      "text/html": [
       "<div>\n",
       "<style scoped>\n",
       "    .dataframe tbody tr th:only-of-type {\n",
       "        vertical-align: middle;\n",
       "    }\n",
       "\n",
       "    .dataframe tbody tr th {\n",
       "        vertical-align: top;\n",
       "    }\n",
       "\n",
       "    .dataframe thead th {\n",
       "        text-align: right;\n",
       "    }\n",
       "</style>\n",
       "<table border=\"1\" class=\"dataframe\">\n",
       "  <thead>\n",
       "    <tr style=\"text-align: right;\">\n",
       "      <th></th>\n",
       "      <th>text</th>\n",
       "      <th>language_code</th>\n",
       "    </tr>\n",
       "  </thead>\n",
       "  <tbody>\n",
       "    <tr>\n",
       "      <th>900</th>\n",
       "      <td>Entropie de Shannon — WikipédiaAller au conten...</td>\n",
       "      <td>fr</td>\n",
       "    </tr>\n",
       "    <tr>\n",
       "      <th>901</th>\n",
       "      <td>Cette source peut être un texte écrit dans une...</td>\n",
       "      <td>fr</td>\n",
       "    </tr>\n",
       "    <tr>\n",
       "      <th>902</th>\n",
       "      <td>Elle a été introduite parClaude Shannon.Du poi...</td>\n",
       "      <td>fr</td>\n",
       "    </tr>\n",
       "    <tr>\n",
       "      <th>903</th>\n",
       "      <td>Ainsi, si une source envoie toujours le même s...</td>\n",
       "      <td>fr</td>\n",
       "    </tr>\n",
       "    <tr>\n",
       "      <th>904</th>\n",
       "      <td>En effet, un récepteur qui connaît seulement l...</td>\n",
       "      <td>fr</td>\n",
       "    </tr>\n",
       "    <tr>\n",
       "      <th>...</th>\n",
       "      <td>...</td>\n",
       "      <td>...</td>\n",
       "    </tr>\n",
       "    <tr>\n",
       "      <th>991</th>\n",
       "      <td>(ISBN978-0-471-24195-9,lire en ligne)↑Les code...</td>\n",
       "      <td>fr</td>\n",
       "    </tr>\n",
       "    <tr>\n",
       "      <th>992</th>\n",
       "      <td>Une phrase comme \"nous obtenons la série suiva...</td>\n",
       "      <td>fr</td>\n",
       "    </tr>\n",
       "    <tr>\n",
       "      <th>993</th>\n",
       "      <td>De même, explique Brillouin, si on utilise d'a...</td>\n",
       "      <td>fr</td>\n",
       "    </tr>\n",
       "    <tr>\n",
       "      <th>994</th>\n",
       "      <td>Voyez lesconditions d’utilisationpour plus de ...</td>\n",
       "      <td>fr</td>\n",
       "    </tr>\n",
       "    <tr>\n",
       "      <th>995</th>\n",
       "      <td>En cas de réutilisation des textes de cette pa...</td>\n",
       "      <td>fr</td>\n",
       "    </tr>\n",
       "  </tbody>\n",
       "</table>\n",
       "<p>96 rows × 2 columns</p>\n",
       "</div>"
      ],
      "text/plain": [
       "                                                  text language_code\n",
       "900  Entropie de Shannon — WikipédiaAller au conten...            fr\n",
       "901  Cette source peut être un texte écrit dans une...            fr\n",
       "902  Elle a été introduite parClaude Shannon.Du poi...            fr\n",
       "903  Ainsi, si une source envoie toujours le même s...            fr\n",
       "904  En effet, un récepteur qui connaît seulement l...            fr\n",
       "..                                                 ...           ...\n",
       "991  (ISBN978-0-471-24195-9,lire en ligne)↑Les code...            fr\n",
       "992  Une phrase comme \"nous obtenons la série suiva...            fr\n",
       "993  De même, explique Brillouin, si on utilise d'a...            fr\n",
       "994  Voyez lesconditions d’utilisationpour plus de ...            fr\n",
       "995  En cas de réutilisation des textes de cette pa...            fr\n",
       "\n",
       "[96 rows x 2 columns]"
      ]
     },
     "execution_count": 11,
     "metadata": {},
     "output_type": "execute_result"
    }
   ],
   "source": [
    "fr_df"
   ]
  },
  {
   "cell_type": "code",
   "execution_count": 12,
   "id": "6058094f-272e-4397-84c7-bb5e3091ee47",
   "metadata": {},
   "outputs": [
    {
     "name": "stdout",
     "output_type": "stream",
     "text": [
      "900    Entropie de Shannon — WikipédiaAller au conten...\n",
      "901    Cette source peut être un texte écrit dans une...\n",
      "902    Elle a été introduite parClaude Shannon.Du poi...\n",
      "903    Ainsi, si une source envoie toujours le même s...\n",
      "904    En effet, un récepteur qui connaît seulement l...\n",
      "                             ...                        \n",
      "991    (ISBN978-0-471-24195-9,lire en ligne)↑Les code...\n",
      "992    Une phrase comme \"nous obtenons la série suiva...\n",
      "993    De même, explique Brillouin, si on utilise d'a...\n",
      "994    Voyez lesconditions d’utilisationpour plus de ...\n",
      "995    En cas de réutilisation des textes de cette pa...\n",
      "Name: text, Length: 96, dtype: object\n"
     ]
    }
   ],
   "source": [
    "print(fr_df['text'])"
   ]
  },
  {
   "cell_type": "code",
   "execution_count": 10,
   "id": "1b7902d7-a64b-4f2a-bd5b-7d9cafd4ce55",
   "metadata": {},
   "outputs": [
    {
     "data": {
      "text/html": [
       "<div>\n",
       "<style scoped>\n",
       "    .dataframe tbody tr th:only-of-type {\n",
       "        vertical-align: middle;\n",
       "    }\n",
       "\n",
       "    .dataframe tbody tr th {\n",
       "        vertical-align: top;\n",
       "    }\n",
       "\n",
       "    .dataframe thead th {\n",
       "        text-align: right;\n",
       "    }\n",
       "</style>\n",
       "<table border=\"1\" class=\"dataframe\">\n",
       "  <thead>\n",
       "    <tr style=\"text-align: right;\">\n",
       "      <th></th>\n",
       "      <th>text</th>\n",
       "      <th>language_code</th>\n",
       "    </tr>\n",
       "  </thead>\n",
       "  <tbody>\n",
       "    <tr>\n",
       "      <th>2069</th>\n",
       "      <td>A Mathematical Theory of Communication.Bell Sy...</td>\n",
       "      <td>af</td>\n",
       "    </tr>\n",
       "    <tr>\n",
       "      <th>2073</th>\n",
       "      <td>Sien dieAlgemene Voorwaardesvir meer inligting...</td>\n",
       "      <td>af</td>\n",
       "    </tr>\n",
       "    <tr>\n",
       "      <th>2070</th>\n",
       "      <td>(PDF, archived fromhere)Hierdie artikel is ’ns...</td>\n",
       "      <td>af</td>\n",
       "    </tr>\n",
       "    <tr>\n",
       "      <th>2071</th>\n",
       "      <td>Voel vry om Wikipedia te help deur dituit te b...</td>\n",
       "      <td>af</td>\n",
       "    </tr>\n",
       "    <tr>\n",
       "      <th>2059</th>\n",
       "      <td>Entropie (Inligtingsteorie) - WikipediaGaan na...</td>\n",
       "      <td>af</td>\n",
       "    </tr>\n",
       "    <tr>\n",
       "      <th>...</th>\n",
       "      <td>...</td>\n",
       "      <td>...</td>\n",
       "    </tr>\n",
       "    <tr>\n",
       "      <th>2017</th>\n",
       "      <td>(PDF, archived fromhere（页面存档备份，存于互联网档案馆）)^Doug...</td>\n",
       "      <td>zh</td>\n",
       "    </tr>\n",
       "    <tr>\n",
       "      <th>2019</th>\n",
       "      <td>第9章“熵及其妖”.The Information: A History, a Theory...</td>\n",
       "      <td>zh</td>\n",
       "    </tr>\n",
       "    <tr>\n",
       "      <th>2020</th>\n",
       "      <td>高博 (翻译), 楼伟珊 (审校), 高学栋 (审校), 李松峰 (审校) 1.人民邮电出版社.</td>\n",
       "      <td>zh</td>\n",
       "    </tr>\n",
       "    <tr>\n",
       "      <th>2015</th>\n",
       "      <td>(PDF, archived fromhere（页面存档备份，存于互联网档案馆）)^Shan...</td>\n",
       "      <td>zh</td>\n",
       "    </tr>\n",
       "    <tr>\n",
       "      <th>2018</th>\n",
       "      <td>第2.4节“熵”.Cryptography Theory and Practice[密码学理...</td>\n",
       "      <td>zh</td>\n",
       "    </tr>\n",
       "  </tbody>\n",
       "</table>\n",
       "<p>2593 rows × 2 columns</p>\n",
       "</div>"
      ],
      "text/plain": [
       "                                                   text language_code\n",
       "2069  A Mathematical Theory of Communication.Bell Sy...            af\n",
       "2073  Sien dieAlgemene Voorwaardesvir meer inligting...            af\n",
       "2070  (PDF, archived fromhere)Hierdie artikel is ’ns...            af\n",
       "2071  Voel vry om Wikipedia te help deur dituit te b...            af\n",
       "2059  Entropie (Inligtingsteorie) - WikipediaGaan na...            af\n",
       "...                                                 ...           ...\n",
       "2017  (PDF, archived fromhere（页面存档备份，存于互联网档案馆）)^Doug...            zh\n",
       "2019  第9章“熵及其妖”.The Information: A History, a Theory...            zh\n",
       "2020   高博 (翻译), 楼伟珊 (审校), 高学栋 (审校), 李松峰 (审校) 1.人民邮电出版社.            zh\n",
       "2015  (PDF, archived fromhere（页面存档备份，存于互联网档案馆）)^Shan...            zh\n",
       "2018  第2.4节“熵”.Cryptography Theory and Practice[密码学理...            zh\n",
       "\n",
       "[2593 rows x 2 columns]"
      ]
     },
     "execution_count": 10,
     "metadata": {},
     "output_type": "execute_result"
    }
   ],
   "source": [
    "# Trier le DataFrame par une colonne spécifique, ici selon la langue et par ordre lexicographique du code des langues\n",
    "\n",
    "# Par défaut, ascending=True\n",
    "#df_trie = df.sort_values(by='language_code')\n",
    "df_trie = df.sort_values(by='language_code', ascending=True)\n",
    "#df_trie = df.sort_values(by='language_code', ascending=False)\n",
    "\n",
    "df_trie"
   ]
  },
  {
   "cell_type": "code",
   "execution_count": 10,
   "id": "5b18ed03-a1c8-4508-a385-4fb6fadfca61",
   "metadata": {},
   "outputs": [
    {
     "name": "stdout",
     "output_type": "stream",
     "text": [
      "0       thเอนโทรปีของข้อมูล - วิกิพีเดียข้ามไปเนื้อหาเ...\n",
      "1                                             th2491(ค.ศ.\n",
      "2       th1948) ชื่อA Mathematical Theory of Communica...\n",
      "3       th}นั่นคือ เอนโทรปีของเหตุการณ์ x คือ ผลรวม (บ...\n",
      "4       th}เมื่อ K เป็นค่าคงตัวใดๆ (และจะเห็นได้ว่ามัน...\n",
      "                              ...                        \n",
      "2588    sr-cyrlSpringer.ISBN978-1556080104.Introductio...\n",
      "2589    sr-cyrlOpen access.Description of information ...\n",
      "2590    sr-cyrlInformation Theory for Intelligent Peop...\n",
      "2591    sr-cyrlShort introduction to the axioms of inf...\n",
      "2592    sr-cyrlПогледајтеуслове коришћењаза детаље.Пол...\n",
      "Name: nom_nouvelle_colonne, Length: 2593, dtype: object\n"
     ]
    }
   ],
   "source": [
    "# Ajouter une nouvelle colonne calculée, ici comme le contenu est de type chaine de caractères, on va concaténer les contenus des colonnes 1 et 2 pour \n",
    "df['nom_nouvelle_colonne'] = df['language_code'] + df['text']\n",
    "print(df['nom_nouvelle_colonne'])"
   ]
  },
  {
   "cell_type": "code",
   "execution_count": null,
   "id": "bc69fe8e-4b21-41f3-8207-00e97a3b57af",
   "metadata": {},
   "outputs": [],
   "source": [
    "# Écrire le DataFrame dans un nouveau fichier TSV\n",
    "#df.to_csv('nouveau_fichier.tsv', sep='\\t', index=False)"
   ]
  }
 ],
 "metadata": {
  "kernelspec": {
   "display_name": "Python 3 (ipykernel)",
   "language": "python",
   "name": "python3"
  },
  "language_info": {
   "codemirror_mode": {
    "name": "ipython",
    "version": 3
   },
   "file_extension": ".py",
   "mimetype": "text/x-python",
   "name": "python",
   "nbconvert_exporter": "python",
   "pygments_lexer": "ipython3",
   "version": "3.10.12"
  }
 },
 "nbformat": 4,
 "nbformat_minor": 5
}
