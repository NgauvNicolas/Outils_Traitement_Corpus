{
 "cells": [
  {
   "cell_type": "code",
   "execution_count": null,
   "id": "deee9082-bc12-4e04-860b-ef7390953d8e",
   "metadata": {},
   "outputs": [],
   "source": [
    "# Trouver les statistiques adaptés à son Corpus"
   ]
  },
  {
   "cell_type": "code",
   "execution_count": null,
   "id": "c384d9b8-b3d5-4b4c-a81a-b0539160239a",
   "metadata": {},
   "outputs": [],
   "source": [
    "# A partir du corpus de référence choisi, les stats réalisées pour prouver la qualité du corpus sont :\n",
    "    # - Taille du corpus : 42 362 lignes\n",
    "    # - Diversité linguistique : 10 langues différentes\n",
    "    # - Distribution des langues : une distribution qui se veut équilibrée (la moins représentée (russe) correspond à 9,7 % du corpus et la plus représentée (espagnol) correspond à 10,4 %)\n",
    "    # - Distribution de la longueur de chaque ligne de texte"
   ]
  },
  {
   "cell_type": "code",
   "execution_count": null,
   "id": "97dcb7d9-f9f2-4682-9f41-e3a1332f37f8",
   "metadata": {},
   "outputs": [],
   "source": [
    "# On va donc également les calculer pour mon corpus "
   ]
  },
  {
   "cell_type": "code",
   "execution_count": 1,
   "id": "9d5cc0e7-ed6b-4f5d-bd8d-ed20ca9d21e5",
   "metadata": {},
   "outputs": [],
   "source": [
    "# On importe la bibliothèque\n",
    "import pandas as pd"
   ]
  },
  {
   "cell_type": "code",
   "execution_count": 2,
   "id": "9b0c7fe7-5b76-4732-99f4-9f437ec98096",
   "metadata": {},
   "outputs": [],
   "source": [
    "# Lecture du fichier TSV\n",
    "df = pd.read_csv('../data/clean/donnees.tsv', sep='\\t')"
   ]
  },
  {
   "cell_type": "code",
   "execution_count": null,
   "id": "8831c715-7645-465c-9a39-b87a71441eb2",
   "metadata": {},
   "outputs": [
    {
     "name": "stdout",
     "output_type": "stream",
     "text": [
      "Nombre de lignes : 2593\n"
     ]
    }
   ],
   "source": [
    "# Taille du corpus = nombre de lignes\n",
    "taille_corpus = len(df)\n",
    "print(\"Nombre de lignes :\", taille_corpus)"
   ]
  },
  {
   "cell_type": "code",
   "execution_count": null,
   "id": "384918b7-e1d7-4869-8a9b-11d207872b60",
   "metadata": {},
   "outputs": [],
   "source": [
    "# Nombre de lignes de mon corpus beaucoup plus faible que le corpus de référence, mais ce n'est pas grave, la prof a dit qu'on avait pas besoin d'en prendre beaucoup"
   ]
  },
  {
   "cell_type": "code",
   "execution_count": 6,
   "id": "039c77b2-c835-4901-8f75-c26361039da3",
   "metadata": {},
   "outputs": [
    {
     "name": "stdout",
     "output_type": "stream",
     "text": [
      "Nombre de langues différentes : 45\n",
      "Toutes les langues (code ISO 639) : ['th' 'el' 'yue' 'pa-guru' 'bg' 'gl' 'eu' 'ro' 'es' 'ckb' 'cs' 'ca' 'fa'\n",
      " 'hu' 'it' 'mhr' 'de' 'fr' 'he' 'sl' 'sv' 'uk' 'pl' 'pt' 'ar' 'ur' 'ru'\n",
      " 'id' 'su' 'da' 'sq' 'bs' 'zh' 'nl' 'vi' 'af' 'en' 'ja' 'sk' 'tr' 'lt'\n",
      " 'cy' 'bar' 'ko' 'sr-cyrl']\n"
     ]
    }
   ],
   "source": [
    "# Diversité linguistique\n",
    "\n",
    "# Obtenir le nombre de valeurs uniques dans la colonne 2 : language_code\n",
    "nombre_de_valeurs_uniques = df['language_code'].nunique()\n",
    "\n",
    "print(\"Nombre de langues différentes :\", nombre_de_valeurs_uniques)\n",
    "\n",
    "# Obtenir toutes les valeurs uniques de la colonne 2\n",
    "valeurs_uniques = df['language_code'].unique()\n",
    "\n",
    "print(\"Toutes les langues (code ISO 639) :\", valeurs_uniques)\n"
   ]
  },
  {
   "cell_type": "code",
   "execution_count": 7,
   "id": "1d161c13-bdd1-4c7f-bd7e-df8eefcda323",
   "metadata": {},
   "outputs": [
    {
     "name": "stdout",
     "output_type": "stream",
     "text": [
      "Distribution des langues dans le Corpus :\n",
      " uk         367\n",
      "en         289\n",
      "ar         272\n",
      "cs         263\n",
      "ru         106\n",
      "ko         103\n",
      "fr          96\n",
      "de          95\n",
      "sr-cyrl     84\n",
      "ca          81\n",
      "it          71\n",
      "es          68\n",
      "gl          68\n",
      "fa          60\n",
      "eu          59\n",
      "sq          49\n",
      "pt          46\n",
      "da          32\n",
      "ro          32\n",
      "he          29\n",
      "id          28\n",
      "pl          26\n",
      "sl          24\n",
      "bg          23\n",
      "hu          22\n",
      "vi          20\n",
      "el          17\n",
      "nl          17\n",
      "af          15\n",
      "bs          15\n",
      "su          13\n",
      "ckb         12\n",
      "bar         11\n",
      "zh          11\n",
      "cy          10\n",
      "pa-guru     10\n",
      "th          10\n",
      "lt           8\n",
      "ja           7\n",
      "sv           7\n",
      "yue          6\n",
      "tr           4\n",
      "sk           3\n",
      "mhr          3\n",
      "ur           1\n",
      "Name: language_code, dtype: int64\n"
     ]
    }
   ],
   "source": [
    "# Distribution des langues\n",
    "\n",
    "# Obtenir la distribution des valeurs dans la colonne 2 : language_code\n",
    "distribution_valeurs = df['language_code'].value_counts()\n",
    "\n",
    "print(\"Distribution des langues dans le Corpus :\\n\", distribution_valeurs)\n"
   ]
  },
  {
   "cell_type": "code",
   "execution_count": 26,
   "id": "a9edef09-9ae9-4ebe-b8a0-4ffa1f7ed517",
   "metadata": {},
   "outputs": [
    {
     "name": "stdout",
     "output_type": "stream",
     "text": [
      "Proportion des langues dans le Corpus :\n",
      " uk         14.153490\n",
      "en         11.145391\n",
      "ar         10.489780\n",
      "cs         10.142692\n",
      "ru          4.087929\n",
      "ko          3.972233\n",
      "fr          3.702275\n",
      "de          3.663710\n",
      "sr-cyrl     3.239491\n",
      "ca          3.123795\n",
      "it          2.738141\n",
      "es          2.622445\n",
      "gl          2.622445\n",
      "fa          2.313922\n",
      "eu          2.275357\n",
      "sq          1.889703\n",
      "pt          1.774007\n",
      "da          1.234092\n",
      "ro          1.234092\n",
      "he          1.118396\n",
      "id          1.079830\n",
      "pl          1.002700\n",
      "sl          0.925569\n",
      "bg          0.887003\n",
      "hu          0.848438\n",
      "vi          0.771307\n",
      "el          0.655611\n",
      "nl          0.655611\n",
      "af          0.578481\n",
      "bs          0.578481\n",
      "su          0.501350\n",
      "ckb         0.462784\n",
      "bar         0.424219\n",
      "zh          0.424219\n",
      "cy          0.385654\n",
      "pa-guru     0.385654\n",
      "th          0.385654\n",
      "lt          0.308523\n",
      "ja          0.269958\n",
      "sv          0.269958\n",
      "yue         0.231392\n",
      "tr          0.154261\n",
      "sk          0.115696\n",
      "mhr         0.115696\n",
      "ur          0.038565\n",
      "Name: language_code, dtype: float64\n"
     ]
    }
   ],
   "source": [
    "# Calculer le nombre total de lignes dans le corpus\n",
    "total_lignes = len(df)\n",
    "\n",
    "# Calculer la proportion de chaque langue (on multiplie par 100 pour avoir le résultat en pourcentage)\n",
    "proportion_langues = (df['language_code'].value_counts() / total_lignes) * 100\n",
    "\n",
    "print(\"Proportion des langues dans le Corpus :\\n\", proportion_langues)\n"
   ]
  },
  {
   "cell_type": "code",
   "execution_count": null,
   "id": "1228466a-34d3-4504-bb08-cd29d6dc8e85",
   "metadata": {},
   "outputs": [],
   "source": [
    "# Beaucoup plus de langues que le corpus de référence (45 vs. 10) mais une distribution de celles-ci beaucoup moins équitable...\n",
    "# Peut-être nettoyer : supprimer les langues pour lesquelles on a trop peu de lignes de textes\n",
    "# Une distribution équilibrée des langues est souhaitable pour garantir que le système de détection de la langue est capable de traiter toutes les langues de manière égale."
   ]
  },
  {
   "cell_type": "code",
   "execution_count": 20,
   "id": "d01f382b-7a4c-49d8-858b-4b17b6bd3d24",
   "metadata": {},
   "outputs": [],
   "source": [
    "# Définir une fonction qui calcule la longueur de chaque chaîne de caractères dans la colonne 1\n",
    "def longueur_et_valeur(chaine):\n",
    "    return len(chaine), chaine\n",
    "\n",
    "# Appliquer la fonction à chaque chaîne de caractères dans la colonne 1\n",
    "resultat = df['text'].apply(longueur_et_valeur)\n",
    "\n",
    "# Créer un DataFrame à partir des résultats\n",
    "resultat_df = pd.DataFrame(resultat.tolist(), columns=['Longueur', 'Valeur'])\n",
    "\n",
    "# Obtenir la distribution des longueurs de chaînes de caractères\n",
    "distribution_longueurs = resultat_df['Longueur'].value_counts()\n"
   ]
  },
  {
   "cell_type": "code",
   "execution_count": 21,
   "id": "14a2898b-3a6f-4de0-bbc6-2c52218bc401",
   "metadata": {
    "tags": []
   },
   "outputs": [
    {
     "name": "stdout",
     "output_type": "stream",
     "text": [
      "Distribution des longueurs de chaque ligne de texte :\n",
      " 50      23\n",
      "32      21\n",
      "5       19\n",
      "8       17\n",
      "89      16\n",
      "        ..\n",
      "307      1\n",
      "796      1\n",
      "329      1\n",
      "1085     1\n",
      "1190     1\n",
      "Name: Longueur, Length: 648, dtype: int64\n"
     ]
    }
   ],
   "source": [
    "print(\"Distribution des longueurs de chaque ligne de texte :\\n\", distribution_longueurs)"
   ]
  },
  {
   "cell_type": "code",
   "execution_count": null,
   "id": "e842f4da-78ed-407a-a608-79f154b8f41d",
   "metadata": {},
   "outputs": [],
   "source": [
    "# colonne 1 = Longueur ; colonne2 = nombre de ligne avec cette longueur de texte\n",
    "\n",
    "# 23 lignes font 50 caractères\n",
    "# 21 lignes font 32 caractères"
   ]
  },
  {
   "cell_type": "code",
   "execution_count": 13,
   "id": "2c7c93f1-f07e-44ef-a872-d596dc2cc846",
   "metadata": {},
   "outputs": [
    {
     "name": "stdout",
     "output_type": "stream",
     "text": [
      "Les lignes de textes (valeur) avec leur longueur :\n",
      "       Longueur                                             Valeur\n",
      "0         2613  เอนโทรปีของข้อมูล - วิกิพีเดียข้ามไปเนื้อหาเมน...\n",
      "1            9                                          2491(ค.ศ.\n",
      "2          832  1948) ชื่อA Mathematical Theory of Communicati...\n",
      "3          369  }นั่นคือ เอนโทรปีของเหตุการณ์ x คือ ผลรวม (บนท...\n",
      "4         1173  }เมื่อ K เป็นค่าคงตัวใดๆ (และจะเห็นได้ว่ามันเป...\n",
      "...        ...                                                ...\n",
      "2588       168  Springer.ISBN978-1556080104.Introduction to en...\n",
      "2589       646  Open access.Description of information entropy...\n",
      "2590        89  Information Theory for Intelligent PeopleАрхив...\n",
      "2591      1190  Short introduction to the axioms of informatio...\n",
      "2592       181  Погледајтеуслове коришћењаза детаље.Политика п...\n",
      "\n",
      "[2593 rows x 2 columns]\n"
     ]
    }
   ],
   "source": [
    "print(\"Les lignes de textes (valeur) avec leur longueur :\\n\", resultat_df)"
   ]
  },
  {
   "cell_type": "code",
   "execution_count": 23,
   "id": "34f450f3-e84b-4433-96d5-d8855b202c45",
   "metadata": {},
   "outputs": [
    {
     "name": "stdout",
     "output_type": "stream",
     "text": [
      "Distribution des longueurs de texte de chaque ligne :\n",
      "       Quantité  Proportion\n",
      "2            8    0.003085\n",
      "3           15    0.005785\n",
      "4           14    0.005399\n",
      "5           19    0.007327\n",
      "6            9    0.003471\n",
      "...        ...         ...\n",
      "3823         1    0.000386\n",
      "4766         1    0.000386\n",
      "5105         1    0.000386\n",
      "5178         1    0.000386\n",
      "5211         1    0.000386\n",
      "\n",
      "[648 rows x 2 columns]\n"
     ]
    }
   ],
   "source": [
    "\n",
    "# Compter le nombre de lignes pour chaque longueur\n",
    "distribution_longueurs_sorted = distribution_longueurs.sort_index()\n",
    "\n",
    "# Calculer la proportion de chaque longueur par rapport au nombre total de lignes\n",
    "proportion_longueurs = distribution_longueurs_sorted / len(df)\n",
    "\n",
    "# Créer un DataFrame pour la distribution des longueurs et des proportions\n",
    "distribution_df = pd.DataFrame({'Quantité': distribution_longueurs_sorted, 'Proportion': proportion_longueurs})\n",
    "\n",
    "print(\"Distribution des longueurs de texte de chaque ligne :\\n\", distribution_df)\n"
   ]
  },
  {
   "cell_type": "code",
   "execution_count": 28,
   "id": "892b3004-82b3-4b75-a21c-6383814eb898",
   "metadata": {},
   "outputs": [],
   "source": [
    "# Pour mon corpus, j'ai donc :\n",
    "    # - Taille du corpus : 2 593 lignes\n",
    "    # - Diversité linguistique : 45 langues différentes\n",
    "    # - Distribution des langues : une distribution qui n'est pas vraiment équilibrée (peut-être un nettoyage à faire pour conserver moins de langues, mais avoir une distribution plus équitable ?)\n",
    "    # - Distribution de la longueur de chaque ligne de texte"
   ]
  },
  {
   "cell_type": "code",
   "execution_count": null,
   "id": "6e776096-6cfd-4d14-89e5-62d5ac03949b",
   "metadata": {},
   "outputs": [],
   "source": []
  }
 ],
 "metadata": {
  "kernelspec": {
   "display_name": "Python 3 (ipykernel)",
   "language": "python",
   "name": "python3"
  },
  "language_info": {
   "codemirror_mode": {
    "name": "ipython",
    "version": 3
   },
   "file_extension": ".py",
   "mimetype": "text/x-python",
   "name": "python",
   "nbconvert_exporter": "python",
   "pygments_lexer": "ipython3",
   "version": "3.10.12"
  }
 },
 "nbformat": 4,
 "nbformat_minor": 5
}
